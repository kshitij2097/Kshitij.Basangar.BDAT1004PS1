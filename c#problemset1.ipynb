{
 "cells": [
  {
   "cell_type": "markdown",
   "id": "5fcfa16a",
   "metadata": {},
   "source": [
    "# Question 1 C#\n",
    "What data type is each of the following?"
   ]
  },
  {
   "cell_type": "code",
   "execution_count": null,
   "id": "fb0a0651",
   "metadata": {},
   "outputs": [],
   "source": [
    "5 : int\n",
    "5.0 : float\n",
    "5 > 1 : bool\n",
    "'5' : char\n",
    "5 * 2 : int\n",
    "'5' * 2 : string\n",
    "'5' + '2' : string\n",
    "5 / 2 : float\n",
    "5 % 2 : int\n",
    "{5, 2, 1} : int\n",
    "5 == 3 : bool\n",
    "Pi (the number) : float"
   ]
  },
  {
   "cell_type": "markdown",
   "id": "4f245156",
   "metadata": {},
   "source": [
    "# Question 2(a) C#\n",
    "Write (and evaluate) C# expressions that answer these questions:\n",
    "a. How many letters are there in 'Supercalifragilisticexpialidocious'?"
   ]
  },
  {
   "cell_type": "code",
   "execution_count": null,
   "id": "42a61105",
   "metadata": {},
   "outputs": [],
   "source": [
    "using System;\n",
    "\n",
    "namespace LengthOfWords\n",
    "{\n",
    "    class Program\n",
    "    {\n",
    "        static void Main(string[] args)\n",
    "        {\n",
    "            string str = \"Supercalifragilisticexpialidocious\";\n",
    "            int strLength = str.Length;\n",
    "            Console.WriteLine(strLength);\n",
    "            Console.ReadLine();\n",
    "        }\n",
    "    }\n",
    "}"
   ]
  },
  {
   "cell_type": "markdown",
   "id": "867b078a",
   "metadata": {},
   "source": [
    "![image](photo1.png)"
   ]
  },
  {
   "cell_type": "markdown",
   "id": "27cbfec5",
   "metadata": {},
   "source": [
    "# Question 2(b) C#\n",
    "b. Does 'Supercalifragilisticexpialidocious' contain 'ice' as a substring?"
   ]
  },
  {
   "cell_type": "code",
   "execution_count": null,
   "id": "6596d791",
   "metadata": {},
   "outputs": [],
   "source": [
    "using System;\n",
    "\n",
    "namespace Substring\n",
    "{\n",
    "    class Program\n",
    "    {\n",
    "        static void Main(string[] args)\n",
    "        {\n",
    "            string substr = \"Supercalifragilisticexpialidocious\";\n",
    "            Console.WriteLine(substr.Substring(18, 3));\n",
    "            {\n",
    "                string message = \"Yes, ice is a substring of Supercalifragilisticexpialidocious!\";\n",
    "                Console.WriteLine(message);\n",
    "            }\n",
    "\n",
    "            Console.ReadLine();\n",
    "            \n",
    "         } \n",
    "    }\n",
    "}"
   ]
  },
  {
   "cell_type": "markdown",
   "id": "5e89d3cb",
   "metadata": {},
   "source": [
    "![image](photo2.png)"
   ]
  },
  {
   "cell_type": "markdown",
   "id": "b315d1c2",
   "metadata": {},
   "source": [
    "# Question 2(c) C#\n",
    "c. Which of the following words is the longest:\n",
    "Supercalifragilisticexpialidocious, Honorificabilitudinitatibus, or\n",
    "Bababadalgharaghtakamminarronnkonn?"
   ]
  },
  {
   "cell_type": "code",
   "execution_count": null,
   "id": "ee0872a3",
   "metadata": {},
   "outputs": [],
   "source": [
    "using System;\n",
    "\n",
    "namespace LongestWord\n",
    "{\n",
    "    class Program\n",
    "    {\n",
    "        static void Main(string[] args)\n",
    "        {\n",
    "            string str1 = \"Supercalifragilisticexpialidocious\";\n",
    "            string str2 = \"Honorificabilitudinitatibus\";\n",
    "            string str3 = \"Bababadalgharaghtakamminarronnkonn\";\n",
    "            \n",
    "            int str1Length = str1.Length;\n",
    "            int str2Length = str2.Length;\n",
    "            int str3Length = str3.Length;\n",
    "            Console.WriteLine(\"Supercalifragilisticexpialidocious has \" + str1Length + \" alphabets\");\n",
    "            Console.WriteLine(\"Honorificabilitudinitatibus has \" + str2Length + \" alphabets\");\n",
    "            Console.WriteLine(\"Bababadalgharaghtakamminarronnkonn has \" + str3Length + \" alphabets\");\n",
    "\n",
    "            if (str1Length > str2Length)\n",
    "            {\n",
    "                Console.WriteLine(\"The length of word Supercalifragilisticexpialidocious is more than the word Honorificabilitudinitatibus.\");\n",
    "            }\n",
    "            if (str2Length < str3Length)\n",
    "            {\n",
    "                Console.WriteLine(\"The length of word Honorificabilitudinitatibus is less than the word Bababadalgharaghtakamminarronnkonn.\");\n",
    "            }\n",
    "            if (str1Length == str3Length)\n",
    "            {\n",
    "                Console.WriteLine(\"The length of words Supercalifragilisticexpialidocious and Bababadalgharaghtakamminarronnkonn is the same.\");\n",
    "            }\n",
    "            Console.ReadLine();\n",
    "        }\n",
    "    }\n",
    "}"
   ]
  },
  {
   "cell_type": "markdown",
   "id": "107487dc",
   "metadata": {},
   "source": [
    "![image](photo3.png)"
   ]
  },
  {
   "cell_type": "markdown",
   "id": "dc4a546a",
   "metadata": {},
   "source": [
    "# Question 2(d) C#\n",
    "d. Which composer comes first in the dictionary: 'Berlioz', 'Borodin', 'Brian',\n",
    "'Bartok', 'Bellini', 'Buxtehude', 'Bernstein'. Which one comes last?"
   ]
  },
  {
   "cell_type": "code",
   "execution_count": null,
   "id": "b39810ac",
   "metadata": {},
   "outputs": [],
   "source": [
    "using System;\n",
    "\n",
    "namespace SortingDict\n",
    "{\n",
    "    class Program\n",
    "    {\n",
    "        static void Main(string[] args)\n",
    "        {\n",
    "\n",
    "            string[] arr = { \"Berlioz\", \"Borodin\", \"Brian\", \"Bartok\", \"Bellini\", \"Buxtehude\", \"Bernstein\" };\n",
    "            Array.Sort<string>(arr);\n",
    "       \n",
    "            Console.WriteLine($\"Composer {arr[0]} is first in dictionary\");\n",
    "            Console.WriteLine($\"Composer {arr[arr.Length - 1]} is last in dictionary\");\n",
    "        }\n",
    "    }\n",
    "}"
   ]
  },
  {
   "cell_type": "markdown",
   "id": "40ab407b",
   "metadata": {},
   "source": [
    "![image](photo4.png)"
   ]
  },
  {
   "cell_type": "markdown",
   "id": "359b4986",
   "metadata": {},
   "source": [
    "# Question 3 C#\n",
    "Implement function triangleArea(a,b,c) that takes as input the lengths of the 3\n",
    "sides of a triangle and returns the area of the triangle. By Heron's formula, the area\n",
    "of a triangle with side lengths a, b, and c is\n",
    "s(s - a)(s -b)(s -c)\n",
    ", where\n",
    "s = (a+b+c)/2."
   ]
  },
  {
   "cell_type": "code",
   "execution_count": null,
   "id": "a5a5b063",
   "metadata": {},
   "outputs": [],
   "source": [
    "using System;\n",
    "\n",
    "namespace AreaOfTri\n",
    "{\n",
    "    class Program\n",
    "    {\n",
    "        static void Main(string[] args)\n",
    "        {\n",
    "            \n",
    "            Console.WriteLine(\"Enter value of sideA: \");\n",
    "            double sideA = Convert.ToDouble(Console.ReadLine());\n",
    "            \n",
    "            Console.WriteLine(\"Enter value of sideB: \");\n",
    "            double sideB = Convert.ToDouble(Console.ReadLine());\n",
    "            \n",
    "            Console.WriteLine(\"Enter value of sideC: \");\n",
    "            double sideC = Convert.ToDouble(Console.ReadLine()); \n",
    "            \n",
    "            double s = (sideA + sideB + sideC) / 2;\n",
    "            Console.WriteLine(\"The value of s is \" + s);\n",
    "            \n",
    "            double triangleArea = Math.Sqrt(s * (s - sideA) * (s - sideB) * (s - sideC));\n",
    "            Console.WriteLine(\"Area of triangle is \" + triangleArea + \" sq units\");\n",
    "\n",
    "            _ = Console.ReadLine();\n",
    "\n",
    "        }\n",
    "    }\n",
    "}"
   ]
  },
  {
   "cell_type": "markdown",
   "id": "d8d1138c",
   "metadata": {},
   "source": [
    "![image](photo5.png)"
   ]
  },
  {
   "cell_type": "markdown",
   "id": "cf4c6e40",
   "metadata": {},
   "source": [
    "# Question 4 C#\n",
    "Write a program in C# Sharp to separate odd and even integers in separate arrays.\n",
    "Go to the editor\n",
    "Test Data :\n",
    "Input the number of elements to be stored in the array :5\n",
    "Input 5 elements in the array :\n",
    "element - 0 : 25\n",
    "element - 1 : 47\n",
    "element - 2 : 42\n",
    "element - 3 : 56\n",
    "element - 4 : 32\n",
    "Expected Output:\n",
    "The Even elements are:\n",
    "42 56 32\n",
    "The Odd elements are:\n",
    "25 47"
   ]
  },
  {
   "cell_type": "code",
   "execution_count": null,
   "id": "35d09d96",
   "metadata": {},
   "outputs": [],
   "source": [
    "using System;\n",
    "\n",
    "namespace OddEven\n",
    "{\n",
    "    class Program\n",
    "    {\n",
    "        static void Main(string[] args)\n",
    "        {\n",
    "            int[] num1 = new int[10];\n",
    "            int[] num2 = new int[10];\n",
    "            int[] num3 = new int[10];\n",
    "            int a, b = 0, c = 0, n;\n",
    "\n",
    "\n",
    "            Console.Write(\"Amount of numbers you want to check = \");\n",
    "            n = Convert.ToInt32(Console.ReadLine());\n",
    "\n",
    "            \n",
    "            for (a = 0; a < n; a++)\n",
    "            {\n",
    "                Console.Write(\"Enter number {0} = \", a);\n",
    "                num1[a] = Convert.ToInt32(Console.ReadLine());\n",
    "            }\n",
    "\n",
    "            for (a = 0; a < n; a++)\n",
    "            {\n",
    "                if (num1[a] % 2 == 0)\n",
    "                {\n",
    "                    num2[b] = num1[a];\n",
    "                    b++;\n",
    "                }\n",
    "                else\n",
    "                {\n",
    "                    num3[c] = num1[a];\n",
    "                    c++;\n",
    "                }\n",
    "            }\n",
    "\n",
    "            Console.Write(\"\\nList of even numbers = \\n\");\n",
    "            for (a = 0; a < b; a++)\n",
    "            {\n",
    "                Console.Write(\"{0} \", num2[a]);\n",
    "            }\n",
    "\n",
    "            Console.Write(\"\\nList of odd numbers = \\n\");\n",
    "            for (a = 0; a < c; a++)\n",
    "            {\n",
    "                Console.Write(\"{0} \", num3[a]);\n",
    "            }\n",
    "            \n",
    "        }\n",
    "    }\n",
    "}\n",
    "\n",
    "# Instead of Enter number 0 = ---> we can enter element - 0 for expected output as per the problem set"
   ]
  },
  {
   "cell_type": "markdown",
   "id": "03f6f89a",
   "metadata": {},
   "source": [
    "![image](photo6.png)"
   ]
  },
  {
   "cell_type": "markdown",
   "id": "ee078412",
   "metadata": {},
   "source": [
    "# Question 5(a) C#\n",
    "a. Write a function inside(x,y,x1,y1,x2,y2) that returns True or False\n",
    "depending on whether the point (x,y) lies in the rectangle with lower left\n",
    "corner (x1,y1) and upper right corner (x2,y2).\n",
    ">>> inside(1,1,0,0,2,3)\n",
    "True\n",
    ">>> inside(-1,-1,0,0,2,3)\n",
    "False"
   ]
  },
  {
   "cell_type": "code",
   "execution_count": null,
   "id": "86a49b1c",
   "metadata": {},
   "outputs": [],
   "source": [
    "using System;\n",
    "\n",
    "namespace RectPoint\n",
    "{\n",
    "    class Program\n",
    "    {\n",
    "\n",
    "        public static void Main()\n",
    "        { \n",
    "            bool inside(int x, int y, int x1, int y1, int x2, int y2)\n",
    "            {\n",
    "                if (x > x1 && x < x2 && y > y1 && y < y2)\n",
    "                    return true;\n",
    "                else\n",
    "                    return false;\n",
    "            }\n",
    "\n",
    "                int x = 1, y = 1, x1 = 0, y1 = 0, x2 = 2, y2 = 3;\n",
    "\n",
    "                if (inside(x, y, x1, y1, x2, y2))\n",
    "                    Console.WriteLine(\"True\");\n",
    "                else\n",
    "                    Console.WriteLine(\"False\");\n",
    "            \n",
    "            }\n",
    "        }\n",
    "    }\n",
    "# Line number 10 reference from programmer Chitra Nayal"
   ]
  },
  {
   "cell_type": "markdown",
   "id": "73fbf65e",
   "metadata": {},
   "source": [
    "![image](photo7.png)"
   ]
  },
  {
   "cell_type": "markdown",
   "id": "1448cb6a",
   "metadata": {},
   "source": [
    "# Question 5(b)(i) C#\n",
    "b. Use function inside() from part a. to write an expression that tests whether\n",
    "the point (1,1) lies in both of the following rectangles: one with lower left\n",
    "corner (0.3, 0.5) and upper right corner (1.1, 0.7) and the other with lower\n",
    "left corner (0.5, 0.2) and upper right corner (1.1, 2)."
   ]
  },
  {
   "cell_type": "code",
   "execution_count": null,
   "id": "00e8b545",
   "metadata": {},
   "outputs": [],
   "source": [
    "# one with lower left corner (0.3, 0.5) and upper right corner (1.1, 0.7) \n",
    "\n",
    "using System;\n",
    "\n",
    "namespace RectPoint\n",
    "{\n",
    "    class Program\n",
    "    {\n",
    "\n",
    "        public static void Main()\n",
    "        { \n",
    "            bool inside(double x, double y, double x1, double y1, double x2, double y2)\n",
    "            {\n",
    "                if (x > x1 && x < x2 && y > y1 && y < y2)\n",
    "                    return true;\n",
    "                else\n",
    "                    return false;\n",
    "            }\n",
    "\n",
    "                \n",
    "                double x = 1, y = 1, x1 = 0.3, y1 = 0.5, x2 = 1.1, y2 = 0.7;\n",
    "\n",
    "                if (inside(x, y, x1, y1, x2, y2))\n",
    "                    Console.WriteLine(\"True\");\n",
    "                else\n",
    "                    Console.WriteLine(\"False\");\n",
    "            \n",
    "            }\n",
    "        }\n",
    "}"
   ]
  },
  {
   "cell_type": "markdown",
   "id": "74e6b3b0",
   "metadata": {},
   "source": [
    "![image](photo8.png)"
   ]
  },
  {
   "cell_type": "markdown",
   "id": "0bd49918",
   "metadata": {},
   "source": [
    "# Question 5(b)(ii) C#"
   ]
  },
  {
   "cell_type": "code",
   "execution_count": null,
   "id": "a9127b06",
   "metadata": {},
   "outputs": [],
   "source": [
    "# one with lower left corner (0.5, 0.2) and upper right corner (1.1, 2) \n",
    "\n",
    "using System;\n",
    "\n",
    "namespace RectPoint\n",
    "{\n",
    "    class Program\n",
    "    {\n",
    "\n",
    "        public static void Main()\n",
    "        { \n",
    "            bool inside(double x, double y, double x1, double y1, double x2, double y2)\n",
    "            {\n",
    "                if (x > x1 && x < x2 && y > y1 && y < y2)\n",
    "                    return true;\n",
    "                else\n",
    "                    return false;\n",
    "            }\n",
    "\n",
    "                \n",
    "                double x = 1, y = 1, x1 = 0.5, y1 = 0.2, x2 = 1.1, y2 = 2;\n",
    "\n",
    "                if (inside(x, y, x1, y1, x2, y2))\n",
    "                    Console.WriteLine(\"True\");\n",
    "                else\n",
    "                    Console.WriteLine(\"False\");\n",
    "            \n",
    "            }\n",
    "        }\n",
    "}"
   ]
  },
  {
   "cell_type": "markdown",
   "id": "10e87744",
   "metadata": {},
   "source": [
    "![image](photo9.png)"
   ]
  }
 ],
 "metadata": {
  "kernelspec": {
   "display_name": ".NET (C#)",
   "language": "C#",
   "name": ".net-csharp"
  }
 },
 "nbformat": 4,
 "nbformat_minor": 5
}
